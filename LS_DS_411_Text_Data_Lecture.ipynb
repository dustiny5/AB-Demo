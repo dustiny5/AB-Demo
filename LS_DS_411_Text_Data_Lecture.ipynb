{
  "nbformat": 4,
  "nbformat_minor": 0,
  "metadata": {
    "colab": {
      "name": "LS_DS_411_Text Data_Lecture.ipynb",
      "version": "0.3.2",
      "provenance": [],
      "include_colab_link": true
    },
    "language_info": {
      "codemirror_mode": {
        "name": "ipython",
        "version": 3
      },
      "file_extension": ".py",
      "mimetype": "text/x-python",
      "name": "python",
      "nbconvert_exporter": "python",
      "pygments_lexer": "ipython3",
      "version": "3.7.3"
    },
    "kernelspec": {
      "display_name": "U4-S1-NLP (Python 3)",
      "language": "python",
      "name": "u4-s1-nlp"
    }
  },
  "cells": [
    {
      "cell_type": "markdown",
      "metadata": {
        "id": "view-in-github",
        "colab_type": "text"
      },
      "source": [
        "<a href=\"https://colab.research.google.com/github/dustiny5/AB-Demo/blob/master/LS_DS_411_Text_Data_Lecture.ipynb\" target=\"_parent\"><img src=\"https://colab.research.google.com/assets/colab-badge.svg\" alt=\"Open In Colab\"/></a>"
      ]
    },
    {
      "cell_type": "markdown",
      "metadata": {
        "toc-hr-collapsed": false,
        "id": "54132IUwdVJD",
        "colab_type": "text"
      },
      "source": [
        "<img align=\"left\" src=\"https://lever-client-logos.s3.amazonaws.com/864372b1-534c-480e-acd5-9711f850815c-1524247202159.png\" width=200>\n",
        "<br></br>\n",
        "<br></br>\n",
        "\n",
        "# Natural Language Processing (NLP) \n",
        "\n",
        "## *Data Science Unit 4 Sprint 1 Lesson 1*\n",
        "\n",
        "\"Natural\" meaning - not computer languages but spoken/written human languages. The hard thing about NLP is that human languages are far less structured or consistent than computer languages. This is perhaps the largest source of difficulty when trying to get computers to \"understand\" human languages. How do you get a machine to understand sarcasm, and irony, and synonyms, connotation, denotation, nuance, and tone of voice --all without it having lived a lifetime of experience for context? If you think about it, our human brains have been exposed to quite a lot of training data to help us interpret languages, and even then we misunderstand each other pretty frequently. \n",
        "\n",
        "## Learning Objectives\n",
        "* <a href=\"#p1\">Part 1</a>: Tokenizing Text\n",
        "* <a href=\"#p2\">Part 2</a>: Removing Stop Words\n",
        "* <a href=\"#p3\">Part 3</a>: Stemming & Lemmatization"
      ]
    },
    {
      "cell_type": "code",
      "metadata": {
        "id": "pSxv3S2JdZ0c",
        "colab_type": "code",
        "colab": {}
      },
      "source": [
        "pip install squarify"
      ],
      "execution_count": 0,
      "outputs": []
    },
    {
      "cell_type": "code",
      "metadata": {
        "id": "iGTQtsx6dl-k",
        "colab_type": "code",
        "colab": {}
      },
      "source": [
        "pip install spacy"
      ],
      "execution_count": 0,
      "outputs": []
    },
    {
      "cell_type": "code",
      "metadata": {
        "id": "dBo6n6QTdoEL",
        "colab_type": "code",
        "colab": {}
      },
      "source": [
        "pip install nltk"
      ],
      "execution_count": 0,
      "outputs": []
    },
    {
      "cell_type": "code",
      "metadata": {
        "id": "eRcQ2IyMdz2j",
        "colab_type": "code",
        "colab": {
          "base_uri": "https://localhost:8080/",
          "height": 377
        },
        "outputId": "f8641fe6-bb2a-4e7f-b075-d2103d2ea445"
      },
      "source": [
        "!wget https://github.com/dustiny5/DS-Unit-4-Sprint-1-NLP/blob/master/module1-text-data/data/Datafiniti_Amazon_Consumer_Reviews_of_Amazon_Products_May19.csv.zip?raw=1"
      ],
      "execution_count": 10,
      "outputs": [
        {
          "output_type": "stream",
          "text": [
            "--2019-07-08 21:22:27--  https://github.com/dustiny5/DS-Unit-4-Sprint-1-NLP/blob/master/module1-text-data/data/Datafiniti_Amazon_Consumer_Reviews_of_Amazon_Products_May19.csv.zip?raw=1\n",
            "Resolving github.com (github.com)... 192.30.255.112\n",
            "Connecting to github.com (github.com)|192.30.255.112|:443... connected.\n",
            "HTTP request sent, awaiting response... 302 Found\n",
            "Location: https://github.com/dustiny5/DS-Unit-4-Sprint-1-NLP/raw/master/module1-text-data/data/Datafiniti_Amazon_Consumer_Reviews_of_Amazon_Products_May19.csv.zip [following]\n",
            "--2019-07-08 21:22:27--  https://github.com/dustiny5/DS-Unit-4-Sprint-1-NLP/raw/master/module1-text-data/data/Datafiniti_Amazon_Consumer_Reviews_of_Amazon_Products_May19.csv.zip\n",
            "Reusing existing connection to github.com:443.\n",
            "HTTP request sent, awaiting response... 302 Found\n",
            "Location: https://raw.githubusercontent.com/dustiny5/DS-Unit-4-Sprint-1-NLP/master/module1-text-data/data/Datafiniti_Amazon_Consumer_Reviews_of_Amazon_Products_May19.csv.zip [following]\n",
            "--2019-07-08 21:22:28--  https://raw.githubusercontent.com/dustiny5/DS-Unit-4-Sprint-1-NLP/master/module1-text-data/data/Datafiniti_Amazon_Consumer_Reviews_of_Amazon_Products_May19.csv.zip\n",
            "Resolving raw.githubusercontent.com (raw.githubusercontent.com)... 151.101.0.133, 151.101.64.133, 151.101.128.133, ...\n",
            "Connecting to raw.githubusercontent.com (raw.githubusercontent.com)|151.101.0.133|:443... connected.\n",
            "HTTP request sent, awaiting response... 200 OK\n",
            "Length: 8600979 (8.2M) [application/zip]\n",
            "Saving to: ‘Datafiniti_Amazon_Consumer_Reviews_of_Amazon_Products_May19.csv.zip?raw=1.1’\n",
            "\n",
            "Datafiniti_Amazon_C 100%[===================>]   8.20M  --.-KB/s    in 0.08s   \n",
            "\n",
            "2019-07-08 21:22:28 (102 MB/s) - ‘Datafiniti_Amazon_Consumer_Reviews_of_Amazon_Products_May19.csv.zip?raw=1.1’ saved [8600979/8600979]\n",
            "\n"
          ],
          "name": "stdout"
        }
      ]
    },
    {
      "cell_type": "code",
      "metadata": {
        "id": "BJk77HGKd2ZJ",
        "colab_type": "code",
        "colab": {
          "base_uri": "https://localhost:8080/",
          "height": 102
        },
        "outputId": "e2d57258-5234-4289-f4cd-6047eba18e92"
      },
      "source": [
        "!unzip Datafiniti_Amazon_Consumer_Reviews_of_Amazon_Products_May19.csv.zip?raw=1"
      ],
      "execution_count": 11,
      "outputs": [
        {
          "output_type": "stream",
          "text": [
            "Archive:  Datafiniti_Amazon_Consumer_Reviews_of_Amazon_Products_May19.csv.zip?raw=1\n",
            "replace Datafiniti_Amazon_Consumer_Reviews_of_Amazon_Products_May19.csv? [y]es, [n]o, [A]ll, [N]one, [r]ename: y\n",
            "  inflating: Datafiniti_Amazon_Consumer_Reviews_of_Amazon_Products_May19.csv  \n",
            "replace __MACOSX/._Datafiniti_Amazon_Consumer_Reviews_of_Amazon_Products_May19.csv? [y]es, [n]o, [A]ll, [N]one, [r]ename: y\n",
            "  inflating: __MACOSX/._Datafiniti_Amazon_Consumer_Reviews_of_Amazon_Products_May19.csv  \n"
          ],
          "name": "stdout"
        }
      ]
    },
    {
      "cell_type": "code",
      "metadata": {
        "id": "SePuOoLadVJE",
        "colab_type": "code",
        "colab": {}
      },
      "source": [
        "\"\"\"\n",
        "Import Statements\n",
        "\"\"\"\n",
        "\n",
        "# Base\n",
        "from collections import Counter\n",
        "import re\n",
        "\n",
        "import pandas as pd\n",
        "\n",
        "# Plotting\n",
        "import squarify\n",
        "import matplotlib.pyplot as plt\n",
        "import seaborn as sns\n",
        "\n",
        "# NLP Libraries\n",
        "import spacy\n",
        "from spacy.tokenizer import Tokenizer\n",
        "from nltk.stem import PorterStemmer\n",
        "\n",
        "nlp = spacy.load(\"en_core_web_sm\")"
      ],
      "execution_count": 0,
      "outputs": []
    },
    {
      "cell_type": "markdown",
      "metadata": {
        "toc-hr-collapsed": false,
        "id": "oLAiYMEgdVJG",
        "colab_type": "text"
      },
      "source": [
        "## Tokenizing Text\n",
        "<a id=\"p1\"></a>\n",
        "\n",
        "> **token**: an instance of a sequence of characters in some particular document that are grouped together as a useful semantic unit for processing\n",
        "\n",
        "> [_*Introduction to Information Retrival*_](https://nlp.stanford.edu/IR-book/)\n",
        "\n",
        "\n",
        "- Build out Amazon case study\n",
        "- Data found on [Kaggle](https://www.kaggle.com/datafiniti/consumer-reviews-of-amazon-products/)"
      ]
    },
    {
      "cell_type": "markdown",
      "metadata": {
        "toc-hr-collapsed": false,
        "id": "tk-ROrC6dVJH",
        "colab_type": "text"
      },
      "source": [
        "### Tokenizing with Pure Python"
      ]
    },
    {
      "cell_type": "code",
      "metadata": {
        "id": "zs1h7NuudVJH",
        "colab_type": "code",
        "colab": {}
      },
      "source": [
        "df = pd.read_csv('Datafiniti_Amazon_Consumer_Reviews_of_Amazon_Products_May19.csv')"
      ],
      "execution_count": 0,
      "outputs": []
    },
    {
      "cell_type": "code",
      "metadata": {
        "id": "IR468qr9dVJJ",
        "colab_type": "code",
        "colab": {
          "base_uri": "https://localhost:8080/",
          "height": 425
        },
        "outputId": "dce66607-e6b5-43dd-edc2-5a4d7fbb574d"
      },
      "source": [
        "list(df)"
      ],
      "execution_count": 13,
      "outputs": [
        {
          "output_type": "execute_result",
          "data": {
            "text/plain": [
              "['id',\n",
              " 'dateAdded',\n",
              " 'dateUpdated',\n",
              " 'name',\n",
              " 'asins',\n",
              " 'brand',\n",
              " 'categories',\n",
              " 'primaryCategories',\n",
              " 'imageURLs',\n",
              " 'keys',\n",
              " 'manufacturer',\n",
              " 'manufacturerNumber',\n",
              " 'reviews.date',\n",
              " 'reviews.dateSeen',\n",
              " 'reviews.didPurchase',\n",
              " 'reviews.doRecommend',\n",
              " 'reviews.id',\n",
              " 'reviews.numHelpful',\n",
              " 'reviews.rating',\n",
              " 'reviews.sourceURLs',\n",
              " 'reviews.text',\n",
              " 'reviews.title',\n",
              " 'reviews.username',\n",
              " 'sourceURLs']"
            ]
          },
          "metadata": {
            "tags": []
          },
          "execution_count": 13
        }
      ]
    },
    {
      "cell_type": "code",
      "metadata": {
        "id": "c9lmVqy3dVJL",
        "colab_type": "code",
        "colab": {
          "base_uri": "https://localhost:8080/",
          "height": 884
        },
        "outputId": "e67264b6-c6b3-40dc-f042-73d30950f6a8"
      },
      "source": [
        "# How can we count the raw text?\n",
        "df['reviews.text'].value_counts(normalize=True)[:50]"
      ],
      "execution_count": 14,
      "outputs": [
        {
          "output_type": "execute_result",
          "data": {
            "text/plain": [
              "good                0.002118\n",
              "great               0.001729\n",
              "Good                0.001482\n",
              "Great               0.001341\n",
              "ok                  0.001165\n",
              "Great price         0.001059\n",
              "great price         0.000988\n",
              "Excellent           0.000988\n",
              "Great value         0.000953\n",
              "good price          0.000812\n",
              "great value         0.000777\n",
              "Great price!        0.000635\n",
              "good value          0.000600\n",
              "good deal           0.000565\n",
              "Great value.        0.000565\n",
              "Great product       0.000529\n",
              "Great deal          0.000529\n",
              "OK                  0.000529\n",
              "As expected         0.000529\n",
              "Good deal           0.000529\n",
              "Good batteries      0.000494\n",
              "Good value          0.000494\n",
              "So far so good      0.000459\n",
              "Great batteries.    0.000459\n",
              "great deal          0.000459\n",
              "Great value!        0.000459\n",
              "Good price          0.000459\n",
              "Good buy            0.000424\n",
              "Work great          0.000424\n",
              "Great deal!         0.000388\n",
              "excellent           0.000388\n",
              "Great buy           0.000388\n",
              "Great!              0.000388\n",
              "As described        0.000388\n",
              "as expected         0.000388\n",
              "Great price.        0.000388\n",
              "good batteries      0.000388\n",
              "Great batteries     0.000388\n",
              "Good value.         0.000388\n",
              "very good           0.000388\n",
              "Work great.         0.000353\n",
              "great batteries     0.000353\n",
              "good product        0.000353\n",
              "Perfect!            0.000353\n",
              "Nice                0.000353\n",
              "Ok                  0.000353\n",
              "Long lasting        0.000318\n",
              "Good price.         0.000318\n",
              "Very good           0.000318\n",
              "works great         0.000318\n",
              "Name: reviews.text, dtype: float64"
            ]
          },
          "metadata": {
            "tags": []
          },
          "execution_count": 14
        }
      ]
    },
    {
      "cell_type": "markdown",
      "metadata": {
        "toc-hr-collapsed": true,
        "id": "2UCVxhC7dVJN",
        "colab_type": "text"
      },
      "source": [
        "#### The attributes of atrributes of good tokens\n",
        "\n",
        "* Should be stored in an iterable datastructure\n",
        "  - Allows analysis of the \"semantic unit\"\n",
        "* Should be all the same case\n",
        "  - Reduces the complexity of our data\n",
        "* Should be free of non-alphanumeric characters (ie punctuation, whitespace)\n",
        "  - Removes information that is probably not relevant to the analysis"
      ]
    },
    {
      "cell_type": "code",
      "metadata": {
        "id": "AwDYx8gidVJO",
        "colab_type": "code",
        "colab": {}
      },
      "source": [
        "sample = \"Friends, Romans, countrymen, lend me your ears;\""
      ],
      "execution_count": 0,
      "outputs": []
    },
    {
      "cell_type": "markdown",
      "metadata": {
        "id": "1boSg5fodVJP",
        "colab_type": "text"
      },
      "source": [
        "##### Iterable Tokens\n",
        "\n",
        "A string object in Python is already iterable. However, the item you iterate over is a character not a token:\n",
        "\n",
        "```\n",
        "from time import sleep\n",
        "for num, character in enumerate(sample):\n",
        "    sleep(.5)\n",
        "    print(f\"Char {num} - {character}\", end=\"\\r\")\n",
        "```\n",
        "\n",
        "If we instead care about the words in our sample (our semantic unit), we can use the string method `.split()` to seperate the whitespace and create iterable units. :)"
      ]
    },
    {
      "cell_type": "code",
      "metadata": {
        "id": "6f0kgPv3dVJQ",
        "colab_type": "code",
        "colab": {}
      },
      "source": [
        "# Splits the string by its white space and puts it in a list\n",
        "sample.split()"
      ],
      "execution_count": 0,
      "outputs": []
    },
    {
      "cell_type": "markdown",
      "metadata": {
        "id": "54tPV-NVdVJS",
        "colab_type": "text"
      },
      "source": [
        "##### Case Normalization\n",
        "A common data cleaning data cleaning task with token is to standardize or normalize the case. Normalizing case reduces the chance that you have duplicate records for things which have practically the same semantic meaning. You can use either the `.lower()` or `.upper()` string methods to normalize case.\n",
        "\n",
        "Consider the following example: "
      ]
    },
    {
      "cell_type": "code",
      "metadata": {
        "id": "vVqr3K_ndVJS",
        "colab_type": "code",
        "colab": {
          "base_uri": "https://localhost:8080/",
          "height": 85
        },
        "outputId": "6bd9a4f5-add6-4354-94df-deb73f279cfc"
      },
      "source": [
        "# Notice anything odd here?\n",
        "# Amazonbasics is the same\n",
        "df['brand'].value_counts()"
      ],
      "execution_count": 16,
      "outputs": [
        {
          "output_type": "execute_result",
          "data": {
            "text/plain": [
              "Amazon          16153\n",
              "Amazonbasics    12169\n",
              "AmazonBasics       10\n",
              "Name: brand, dtype: int64"
            ]
          },
          "metadata": {
            "tags": []
          },
          "execution_count": 16
        }
      ]
    },
    {
      "cell_type": "code",
      "metadata": {
        "id": "zcqCHi-bdVJU",
        "colab_type": "code",
        "colab": {
          "base_uri": "https://localhost:8080/",
          "height": 68
        },
        "outputId": "81324298-a9d3-4850-f20c-e3baec889d97"
      },
      "source": [
        "# Much cleaner\n",
        "df['brand'].str.lower().value_counts()"
      ],
      "execution_count": 18,
      "outputs": [
        {
          "output_type": "execute_result",
          "data": {
            "text/plain": [
              "amazon          16153\n",
              "amazonbasics    12179\n",
              "Name: brand, dtype: int64"
            ]
          },
          "metadata": {
            "tags": []
          },
          "execution_count": 18
        }
      ]
    },
    {
      "cell_type": "markdown",
      "metadata": {
        "id": "CpMmgBujdVJX",
        "colab_type": "text"
      },
      "source": [
        "##### Keep Only Alphanumeric Characters\n",
        "Yes, we only want letters and numbers. Everything else is probably noise: punctionation, whitespace, and other notation. This one is little bit more complicatd than our previous example. Here we will have to import the base package `re` (regular expressions). \n",
        "\n",
        "The only regex expression pattern you need for this is `'[^a-zA-Z ^0-9]'` which keeps lower case letters, upper case letters, spaces, and numbers."
      ]
    },
    {
      "cell_type": "code",
      "metadata": {
        "id": "0bnUi46dfuPc",
        "colab_type": "code",
        "colab": {}
      },
      "source": [
        ""
      ],
      "execution_count": 0,
      "outputs": []
    },
    {
      "cell_type": "code",
      "metadata": {
        "id": "bBjI2dFjdVJX",
        "colab_type": "code",
        "colab": {
          "base_uri": "https://localhost:8080/",
          "height": 34
        },
        "outputId": "eec6b326-4198-4c56-acdf-b8e77b9a5d76"
      },
      "source": [
        "import re\n",
        "\n",
        "re.sub(r'[^a-zA-Z ^0-9]', '', sample + ' 911')"
      ],
      "execution_count": 19,
      "outputs": [
        {
          "output_type": "execute_result",
          "data": {
            "text/plain": [
              "'Friends Romans countrymen lend me your ears 911'"
            ]
          },
          "metadata": {
            "tags": []
          },
          "execution_count": 19
        }
      ]
    },
    {
      "cell_type": "markdown",
      "metadata": {
        "id": "gXVaC7badVJa",
        "colab_type": "text"
      },
      "source": [
        "#### Two Minute Challenge \n",
        "- Complete the function `tokenize` below\n",
        "- Combine the methods which we discussed above to clean text before we analyze it\n",
        "- You can put the methods in any order you want"
      ]
    },
    {
      "cell_type": "code",
      "metadata": {
        "id": "ThvnFRRVdVJb",
        "colab_type": "code",
        "colab": {}
      },
      "source": [
        "def tokenize(text):\n",
        "    \"\"\"Parses a string into a list of semantic units (words)\n",
        "\n",
        "    Args:\n",
        "        text (str): The string that the function will tokenize.\n",
        "\n",
        "    Returns:\n",
        "        list: tokens parsed out by the mechanics of your choice\n",
        "    \"\"\"\n",
        "    sample = re.sub(r'[^a-zA-Z ^0-9]', '', text)\n",
        "    tokens = sample.lower().split()\n",
        "    return tokens"
      ],
      "execution_count": 0,
      "outputs": []
    },
    {
      "cell_type": "code",
      "metadata": {
        "id": "Wfx-DPrrgWPL",
        "colab_type": "code",
        "colab": {}
      },
      "source": [
        "df['tokens'] = df['reviews.text'].apply(tokenize)"
      ],
      "execution_count": 0,
      "outputs": []
    },
    {
      "cell_type": "code",
      "metadata": {
        "id": "aoktwAXbgkjL",
        "colab_type": "code",
        "colab": {
          "base_uri": "https://localhost:8080/",
          "height": 119
        },
        "outputId": "a83d84a7-5d67-4085-a9ec-283353fd1430"
      },
      "source": [
        "df['tokens'].head()"
      ],
      "execution_count": 25,
      "outputs": [
        {
          "output_type": "execute_result",
          "data": {
            "text/plain": [
              "0    [i, order, 3, of, them, and, one, of, the, ite...\n",
              "1    [bulk, is, always, the, less, expensive, way, ...\n",
              "2    [well, they, are, not, duracell, but, for, the...\n",
              "3    [seem, to, work, as, well, as, name, brand, ba...\n",
              "4    [these, batteries, are, very, long, lasting, t...\n",
              "Name: tokens, dtype: object"
            ]
          },
          "metadata": {
            "tags": []
          },
          "execution_count": 25
        }
      ]
    },
    {
      "cell_type": "markdown",
      "metadata": {
        "id": "QVGf_g_SdVJc",
        "colab_type": "text"
      },
      "source": [
        "#### Analyzing Tokens"
      ]
    },
    {
      "cell_type": "code",
      "metadata": {
        "id": "BI7Vgx4pdVJd",
        "colab_type": "code",
        "colab": {
          "base_uri": "https://localhost:8080/",
          "height": 867
        },
        "outputId": "07756d86-d8d1-4b3b-d5a6-4de594f10f54"
      },
      "source": [
        "# Object from Base Python\n",
        "from collections import Counter\n",
        "\n",
        "# The object `Counter` takes an iterable, but you can instaniate an empty one and update it. \n",
        "word_counts = Counter()\n",
        "\n",
        "# Update it based on a split of each of our documents\n",
        "df['tokens'].apply(lambda x: word_counts.update(x))\n",
        "\n",
        "# Print out the 10 most common words\n",
        "word_counts.most_common(50)"
      ],
      "execution_count": 26,
      "outputs": [
        {
          "output_type": "execute_result",
          "data": {
            "text/plain": [
              "[('the', 28836),\n",
              " ('and', 22302),\n",
              " ('i', 20588),\n",
              " ('to', 19537),\n",
              " ('for', 17918),\n",
              " ('a', 17599),\n",
              " ('it', 16793),\n",
              " ('is', 11482),\n",
              " ('my', 11149),\n",
              " ('this', 10420),\n",
              " ('great', 9362),\n",
              " ('of', 8408),\n",
              " ('batteries', 8044),\n",
              " ('as', 7656),\n",
              " ('tablet', 6580),\n",
              " ('with', 6044),\n",
              " ('in', 5892),\n",
              " ('good', 5845),\n",
              " ('that', 5654),\n",
              " ('have', 5635),\n",
              " ('on', 5620),\n",
              " ('they', 5503),\n",
              " ('price', 5138),\n",
              " ('but', 4856),\n",
              " ('so', 4680),\n",
              " ('are', 4586),\n",
              " ('these', 4578),\n",
              " ('use', 4416),\n",
              " ('you', 4398),\n",
              " ('not', 4353),\n",
              " ('was', 4182),\n",
              " ('very', 3770),\n",
              " ('amazon', 3705),\n",
              " ('love', 3520),\n",
              " ('bought', 3174),\n",
              " ('them', 3149),\n",
              " ('its', 3002),\n",
              " ('can', 2980),\n",
              " ('easy', 2903),\n",
              " ('kindle', 2839),\n",
              " ('just', 2795),\n",
              " ('one', 2781),\n",
              " ('all', 2653),\n",
              " ('be', 2588),\n",
              " ('kids', 2544),\n",
              " ('at', 2538),\n",
              " ('she', 2483),\n",
              " ('like', 2481),\n",
              " ('long', 2463),\n",
              " ('well', 2437)]"
            ]
          },
          "metadata": {
            "tags": []
          },
          "execution_count": 26
        }
      ]
    },
    {
      "cell_type": "code",
      "metadata": {
        "id": "OqaadP5KdVJe",
        "colab_type": "code",
        "colab": {}
      },
      "source": [
        "def count(docs):\n",
        "\n",
        "        word_counts = Counter()\n",
        "        appears_in = Counter()\n",
        "        \n",
        "        total_docs = len(docs)\n",
        "\n",
        "        for doc in docs:\n",
        "            word_counts.update(doc)\n",
        "            appears_in.update(set(doc))\n",
        "\n",
        "        temp = zip(word_counts.keys(), word_counts.values())\n",
        "        \n",
        "        wc = pd.DataFrame(temp, columns = ['word', 'count'])\n",
        "\n",
        "        wc['rank'] = wc['count'].rank(method='first', ascending=False)\n",
        "        total = wc['count'].sum()\n",
        "\n",
        "        wc['pct_total'] = wc['count'].apply(lambda x: x / total)\n",
        "        \n",
        "        wc = wc.sort_values(by='rank')\n",
        "        wc['cul_pct_total'] = wc['pct_total'].cumsum()\n",
        "\n",
        "        t2 = zip(appears_in.keys(), appears_in.values())\n",
        "        ac = pd.DataFrame(t2, columns=['word', 'appears_in'])\n",
        "        wc = ac.merge(wc, on='word')\n",
        "\n",
        "        wc['appears_in_pct'] = wc['appears_in'].apply(lambda x: x / total_docs)\n",
        "        \n",
        "        return wc.sort_values(by='rank')"
      ],
      "execution_count": 0,
      "outputs": []
    },
    {
      "cell_type": "code",
      "metadata": {
        "id": "6FwD9vMGdVJg",
        "colab_type": "code",
        "colab": {}
      },
      "source": [
        "# Use the Function\n",
        "wc = count(df['tokens'])"
      ],
      "execution_count": 0,
      "outputs": []
    },
    {
      "cell_type": "code",
      "metadata": {
        "id": "4N6XjsfMdVJi",
        "colab_type": "code",
        "colab": {
          "base_uri": "https://localhost:8080/",
          "height": 204
        },
        "outputId": "c352d3d7-71b0-42b4-97f0-3b7f8a0a4d05"
      },
      "source": [
        "wc.head()"
      ],
      "execution_count": 31,
      "outputs": [
        {
          "output_type": "execute_result",
          "data": {
            "text/html": [
              "<div>\n",
              "<style scoped>\n",
              "    .dataframe tbody tr th:only-of-type {\n",
              "        vertical-align: middle;\n",
              "    }\n",
              "\n",
              "    .dataframe tbody tr th {\n",
              "        vertical-align: top;\n",
              "    }\n",
              "\n",
              "    .dataframe thead th {\n",
              "        text-align: right;\n",
              "    }\n",
              "</style>\n",
              "<table border=\"1\" class=\"dataframe\">\n",
              "  <thead>\n",
              "    <tr style=\"text-align: right;\">\n",
              "      <th></th>\n",
              "      <th>word</th>\n",
              "      <th>appears_in</th>\n",
              "      <th>count</th>\n",
              "      <th>rank</th>\n",
              "      <th>pct_total</th>\n",
              "      <th>cul_pct_total</th>\n",
              "      <th>appears_in_pct</th>\n",
              "    </tr>\n",
              "  </thead>\n",
              "  <tbody>\n",
              "    <tr>\n",
              "      <th>6</th>\n",
              "      <td>the</td>\n",
              "      <td>13185</td>\n",
              "      <td>28836</td>\n",
              "      <td>1.0</td>\n",
              "      <td>0.039350</td>\n",
              "      <td>0.039350</td>\n",
              "      <td>0.465375</td>\n",
              "    </tr>\n",
              "    <tr>\n",
              "      <th>9</th>\n",
              "      <td>and</td>\n",
              "      <td>13731</td>\n",
              "      <td>22302</td>\n",
              "      <td>2.0</td>\n",
              "      <td>0.030434</td>\n",
              "      <td>0.069784</td>\n",
              "      <td>0.484646</td>\n",
              "    </tr>\n",
              "    <tr>\n",
              "      <th>7</th>\n",
              "      <td>i</td>\n",
              "      <td>10301</td>\n",
              "      <td>20588</td>\n",
              "      <td>3.0</td>\n",
              "      <td>0.028095</td>\n",
              "      <td>0.097879</td>\n",
              "      <td>0.363582</td>\n",
              "    </tr>\n",
              "    <tr>\n",
              "      <th>15</th>\n",
              "      <td>to</td>\n",
              "      <td>11312</td>\n",
              "      <td>19537</td>\n",
              "      <td>4.0</td>\n",
              "      <td>0.026661</td>\n",
              "      <td>0.124539</td>\n",
              "      <td>0.399266</td>\n",
              "    </tr>\n",
              "    <tr>\n",
              "      <th>31</th>\n",
              "      <td>for</td>\n",
              "      <td>12101</td>\n",
              "      <td>17918</td>\n",
              "      <td>5.0</td>\n",
              "      <td>0.024451</td>\n",
              "      <td>0.148990</td>\n",
              "      <td>0.427114</td>\n",
              "    </tr>\n",
              "  </tbody>\n",
              "</table>\n",
              "</div>"
            ],
            "text/plain": [
              "   word  appears_in  count  rank  pct_total  cul_pct_total  appears_in_pct\n",
              "6   the       13185  28836   1.0   0.039350       0.039350        0.465375\n",
              "9   and       13731  22302   2.0   0.030434       0.069784        0.484646\n",
              "7     i       10301  20588   3.0   0.028095       0.097879        0.363582\n",
              "15   to       11312  19537   4.0   0.026661       0.124539        0.399266\n",
              "31  for       12101  17918   5.0   0.024451       0.148990        0.427114"
            ]
          },
          "metadata": {
            "tags": []
          },
          "execution_count": 31
        }
      ]
    },
    {
      "cell_type": "code",
      "metadata": {
        "id": "oOYfLyzLdVJk",
        "colab_type": "code",
        "colab": {
          "base_uri": "https://localhost:8080/",
          "height": 300
        },
        "outputId": "62bcc5e3-6f06-497c-a21c-743b82286046"
      },
      "source": [
        "import seaborn as sns\n",
        "\n",
        "# Cumulative Distribution Plot\n",
        "sns.lineplot(x='rank', y='cul_pct_total', data=wc)"
      ],
      "execution_count": 32,
      "outputs": [
        {
          "output_type": "execute_result",
          "data": {
            "text/plain": [
              "<matplotlib.axes._subplots.AxesSubplot at 0x7fbdbd9e9cf8>"
            ]
          },
          "metadata": {
            "tags": []
          },
          "execution_count": 32
        },
        {
          "output_type": "display_data",
          "data": {
            "image/png": "[encoded data removed]",
            "text/plain": [
              "<Figure size 432x288 with 1 Axes>"
            ]
          },
          "metadata": {
            "tags": []
          }
        }
      ]
    },
    {
      "cell_type": "code",
      "metadata": {
        "id": "RGUbi2YOhIAl",
        "colab_type": "code",
        "colab": {
          "base_uri": "https://localhost:8080/",
          "height": 34
        },
        "outputId": "d3130e56-27db-4c79-c90f-12a78bcdd440"
      },
      "source": [
        "# Get the max of the 1st 20th\n",
        "wc[wc['rank'] <= 20]['cul_pct_total'].max()"
      ],
      "execution_count": 34,
      "outputs": [
        {
          "output_type": "execute_result",
          "data": {
            "text/plain": [
              "0.3353465992363599"
            ]
          },
          "metadata": {
            "tags": []
          },
          "execution_count": 34
        }
      ]
    },
    {
      "cell_type": "code",
      "metadata": {
        "id": "Wy5bcIDxdVJl",
        "colab_type": "code",
        "colab": {
          "base_uri": "https://localhost:8080/",
          "height": 269
        },
        "outputId": "10c4d394-02cc-43c4-ff92-99e3208c509e"
      },
      "source": [
        "import squarify\n",
        "import matplotlib.pyplot as plt\n",
        "\n",
        "wc_top20 = wc[wc['rank'] <= 20]\n",
        "\n",
        "squarify.plot(sizes=wc_top20['pct_total'], label=wc_top20['word'], alpha=.8 )\n",
        "plt.axis('off')\n",
        "plt.show()"
      ],
      "execution_count": 33,
      "outputs": [
        {
          "output_type": "display_data",
          "data": {
            "image/png": "[encoded data removed]",
            "text/plain": [
              "<Figure size 432x288 with 1 Axes>"
            ]
          },
          "metadata": {
            "tags": []
          }
        }
      ]
    },
    {
      "cell_type": "markdown",
      "metadata": {
        "id": "lZIbGNXXdVJn",
        "colab_type": "text"
      },
      "source": [
        "### Processing Raw Text with Spacy\n",
        "Should answer the \"why\" of Spacy while recreating steps from above using same visualization\n",
        "\n",
        "Spacy's datamodel for documents is unique among NLP libraries. Instead of storing the documents components repeatively in various datastructures, Spacy indexes components and simply stores the lookup informaiton. \n",
        "\n",
        "This is often why Spacy is considered to be more production grade than library like NLTK."
      ]
    },
    {
      "cell_type": "code",
      "metadata": {
        "id": "QCav7wZ4dVJo",
        "colab_type": "code",
        "colab": {}
      },
      "source": [
        "import spacy\n",
        "from spacy.tokenizer import Tokenizer\n",
        "\n",
        "nlp = spacy.load(\"en_core_web_sm\")\n",
        "\n",
        "# Tokenizer\n",
        "tokenizer = Tokenizer(nlp.vocab)"
      ],
      "execution_count": 0,
      "outputs": []
    },
    {
      "cell_type": "code",
      "metadata": {
        "id": "gFrCUwtGtBUO",
        "colab_type": "code",
        "colab": {
          "base_uri": "https://localhost:8080/",
          "height": 34
        },
        "outputId": "c13aefa2-35e4-4b94-9048-d7a1740f447d"
      },
      "source": [
        "# Works the same way as split()\n",
        "[token.text for token in tokenizer(sample)]"
      ],
      "execution_count": 70,
      "outputs": [
        {
          "output_type": "execute_result",
          "data": {
            "text/plain": [
              "['Friends,', 'Romans,', 'countrymen,', 'lend', 'me', 'your', 'ears;']"
            ]
          },
          "metadata": {
            "tags": []
          },
          "execution_count": 70
        }
      ]
    },
    {
      "cell_type": "code",
      "metadata": {
        "id": "muqTGxBrdVJr",
        "colab_type": "code",
        "colab": {}
      },
      "source": [
        "# Tokenizer Pipe\n",
        "\n",
        "tokens = []\n",
        "\n",
        "\"\"\" Make them tokens \"\"\"\n",
        "# Tokenizer.pipe passes in more than one, like a series.\n",
        "for doc in tokenizer.pipe(df['reviews.text'], batch_size=500):\n",
        "  # Split each review into individual words.\n",
        "  doc_tokens = [token.text for token in doc]\n",
        "  tokens.append(doc_tokens)\n",
        "    \n",
        "df['tokens'] = tokens"
      ],
      "execution_count": 0,
      "outputs": []
    },
    {
      "cell_type": "code",
      "metadata": {
        "id": "Oc6NaeXBdVJt",
        "colab_type": "code",
        "colab": {
          "base_uri": "https://localhost:8080/",
          "height": 119
        },
        "outputId": "3afca068-4a28-4e34-e144-3728b5905a29"
      },
      "source": [
        "df['tokens'].head()"
      ],
      "execution_count": 38,
      "outputs": [
        {
          "output_type": "execute_result",
          "data": {
            "text/plain": [
              "0    [I, order, 3, of, them, and, one, of, the, ite...\n",
              "1    [Bulk, is, always, the, less, expensive, way, ...\n",
              "2    [Well, they, are, not, Duracell, but, for, the...\n",
              "3    [Seem, to, work, as, well, as, name, brand, ba...\n",
              "4    [These, batteries, are, very, long, lasting, t...\n",
              "Name: tokens, dtype: object"
            ]
          },
          "metadata": {
            "tags": []
          },
          "execution_count": 38
        }
      ]
    },
    {
      "cell_type": "code",
      "metadata": {
        "id": "0FPDve6wdVJw",
        "colab_type": "code",
        "colab": {}
      },
      "source": [
        "wc = count(df['tokens'])"
      ],
      "execution_count": 0,
      "outputs": []
    },
    {
      "cell_type": "code",
      "metadata": {
        "id": "7HD7gX6AdVJy",
        "colab_type": "code",
        "colab": {
          "base_uri": "https://localhost:8080/",
          "height": 204
        },
        "outputId": "bdb535ae-098f-4c52-b6d9-cecfd3032ef2"
      },
      "source": [
        "wc.head()"
      ],
      "execution_count": 40,
      "outputs": [
        {
          "output_type": "execute_result",
          "data": {
            "text/html": [
              "<div>\n",
              "<style scoped>\n",
              "    .dataframe tbody tr th:only-of-type {\n",
              "        vertical-align: middle;\n",
              "    }\n",
              "\n",
              "    .dataframe tbody tr th {\n",
              "        vertical-align: top;\n",
              "    }\n",
              "\n",
              "    .dataframe thead th {\n",
              "        text-align: right;\n",
              "    }\n",
              "</style>\n",
              "<table border=\"1\" class=\"dataframe\">\n",
              "  <thead>\n",
              "    <tr style=\"text-align: right;\">\n",
              "      <th></th>\n",
              "      <th>word</th>\n",
              "      <th>appears_in</th>\n",
              "      <th>count</th>\n",
              "      <th>rank</th>\n",
              "      <th>pct_total</th>\n",
              "      <th>cul_pct_total</th>\n",
              "      <th>appears_in_pct</th>\n",
              "    </tr>\n",
              "  </thead>\n",
              "  <tbody>\n",
              "    <tr>\n",
              "      <th>7</th>\n",
              "      <td>the</td>\n",
              "      <td>12316</td>\n",
              "      <td>25154</td>\n",
              "      <td>1.0</td>\n",
              "      <td>0.034219</td>\n",
              "      <td>0.034219</td>\n",
              "      <td>0.434703</td>\n",
              "    </tr>\n",
              "    <tr>\n",
              "      <th>9</th>\n",
              "      <td>and</td>\n",
              "      <td>13541</td>\n",
              "      <td>21850</td>\n",
              "      <td>2.0</td>\n",
              "      <td>0.029725</td>\n",
              "      <td>0.063944</td>\n",
              "      <td>0.477940</td>\n",
              "    </tr>\n",
              "    <tr>\n",
              "      <th>6</th>\n",
              "      <td>I</td>\n",
              "      <td>9913</td>\n",
              "      <td>19762</td>\n",
              "      <td>3.0</td>\n",
              "      <td>0.026884</td>\n",
              "      <td>0.090828</td>\n",
              "      <td>0.349887</td>\n",
              "    </tr>\n",
              "    <tr>\n",
              "      <th>14</th>\n",
              "      <td>to</td>\n",
              "      <td>11227</td>\n",
              "      <td>19324</td>\n",
              "      <td>4.0</td>\n",
              "      <td>0.026288</td>\n",
              "      <td>0.117117</td>\n",
              "      <td>0.396266</td>\n",
              "    </tr>\n",
              "    <tr>\n",
              "      <th>31</th>\n",
              "      <td>for</td>\n",
              "      <td>11790</td>\n",
              "      <td>17197</td>\n",
              "      <td>5.0</td>\n",
              "      <td>0.023395</td>\n",
              "      <td>0.140512</td>\n",
              "      <td>0.416137</td>\n",
              "    </tr>\n",
              "  </tbody>\n",
              "</table>\n",
              "</div>"
            ],
            "text/plain": [
              "   word  appears_in  count  rank  pct_total  cul_pct_total  appears_in_pct\n",
              "7   the       12316  25154   1.0   0.034219       0.034219        0.434703\n",
              "9   and       13541  21850   2.0   0.029725       0.063944        0.477940\n",
              "6     I        9913  19762   3.0   0.026884       0.090828        0.349887\n",
              "14   to       11227  19324   4.0   0.026288       0.117117        0.396266\n",
              "31  for       11790  17197   5.0   0.023395       0.140512        0.416137"
            ]
          },
          "metadata": {
            "tags": []
          },
          "execution_count": 40
        }
      ]
    },
    {
      "cell_type": "code",
      "metadata": {
        "id": "pTsjDO1ndVJz",
        "colab_type": "code",
        "colab": {
          "base_uri": "https://localhost:8080/",
          "height": 269
        },
        "outputId": "b8a4d974-d314-47e3-9194-c3115d263f63"
      },
      "source": [
        "wc_top20 = wc[wc['rank'] <= 20]\n",
        "\n",
        "squarify.plot(sizes=wc_top20['pct_total'], label=wc_top20['word'], alpha=.8 )\n",
        "plt.axis('off')\n",
        "plt.show()"
      ],
      "execution_count": 41,
      "outputs": [
        {
          "output_type": "display_data",
          "data": {
            "image/png": "[encoded data removed]",
            "text/plain": [
              "<Figure size 432x288 with 1 Axes>"
            ]
          },
          "metadata": {
            "tags": []
          }
        }
      ]
    },
    {
      "cell_type": "markdown",
      "metadata": {
        "id": "fPFPigbldVJ1",
        "colab_type": "text"
      },
      "source": [
        "## Stop Words\n",
        "<a id=\"p2\"></a>\n",
        "\n",
        "Section Agenda\n",
        "- What are they?\n",
        "- How do we get rid of them using Spacy?\n",
        "- Visualization\n",
        "- Libraries of Stop Words\n",
        "- Extending Stop Words\n",
        "- Statistical trimming\n",
        "\n",
        "If the visualizations above, you began to notice a pattern. Most of the words don't really add much to our undertanding of product reviews. Words such as \"I\", \"and\", \"of\", etc. have almost no semantic meaning to us. We call these useless words \"stop words,\" because we should 'stop' ourselves from including them in the analysis. \n",
        "\n",
        "Most NLP libraries have built in lists of stop words that common english words: conjunctions, articles, adverbs, pronouns, and common verbs. The best practice, however, is to extend/customize these standard english stopwords for your problem's domain. If I am studying political science, I may want to exclude the word \"politics\" from my analysis; it's so common it does not add to my understanding. "
      ]
    },
    {
      "cell_type": "markdown",
      "metadata": {
        "id": "VEMC4z9kdVJ1",
        "colab_type": "text"
      },
      "source": [
        "### Default Stop Words\n",
        "Let's take a look at the standard stop words that came with our spacy model:"
      ]
    },
    {
      "cell_type": "code",
      "metadata": {
        "id": "daleKFZGdVJ2",
        "colab_type": "code",
        "colab": {
          "base_uri": "https://localhost:8080/",
          "height": 34
        },
        "outputId": "44feebe8-062e-4c2f-ec1b-2f9855a6f1b9"
      },
      "source": [
        "## Spacy's Default Stop Words\n",
        "type(nlp.Defaults.stop_words)"
      ],
      "execution_count": 42,
      "outputs": [
        {
          "output_type": "execute_result",
          "data": {
            "text/plain": [
              "set"
            ]
          },
          "metadata": {
            "tags": []
          },
          "execution_count": 42
        }
      ]
    },
    {
      "cell_type": "code",
      "metadata": {
        "id": "-baI8pEKdVJ3",
        "colab_type": "code",
        "colab": {}
      },
      "source": [
        "tokens = []\n",
        "\n",
        "\"\"\" Update those tokens \"\"\"\n",
        "for doc in tokenizer.pipe(df['reviews.text'], batch_size=500):\n",
        "  doc_tokens = []\n",
        "  \n",
        "  for token in doc:\n",
        "    if (token.is_stop == False) and (token.is_punct == False):\n",
        "      doc_tokens.append(token.text.lower())\n",
        "  tokens.append(doc_tokens)\n",
        "    \n",
        "df['tokens'] = tokens"
      ],
      "execution_count": 0,
      "outputs": []
    },
    {
      "cell_type": "code",
      "metadata": {
        "id": "wAT9Zs4PdVJ5",
        "colab_type": "code",
        "colab": {
          "base_uri": "https://localhost:8080/",
          "height": 119
        },
        "outputId": "c20aabb4-5b27-4d61-9546-98b276e6feab"
      },
      "source": [
        "df.tokens.head()"
      ],
      "execution_count": 44,
      "outputs": [
        {
          "output_type": "execute_result",
          "data": {
            "text/plain": [
              "0    [order, 3, item, bad, quality., missing, backu...\n",
              "1               [bulk, expensive, way, products, like]\n",
              "2                            [duracell, price, happy.]\n",
              "3              [work, brand, batteries, better, price]\n",
              "4            [batteries, long, lasting, price, great.]\n",
              "Name: tokens, dtype: object"
            ]
          },
          "metadata": {
            "tags": []
          },
          "execution_count": 44
        }
      ]
    },
    {
      "cell_type": "code",
      "metadata": {
        "id": "X5hywElVdVJ6",
        "colab_type": "code",
        "colab": {
          "base_uri": "https://localhost:8080/",
          "height": 269
        },
        "outputId": "36bf7054-8751-4097-d92b-b47bceb9397f"
      },
      "source": [
        "wc = count(df['tokens'])\n",
        "\n",
        "wc_top20 = wc[wc['rank'] <= 20]\n",
        "\n",
        "squarify.plot(sizes=wc_top20['pct_total'], label=wc_top20['word'], alpha=.8 )\n",
        "plt.axis('off')\n",
        "plt.show()"
      ],
      "execution_count": 45,
      "outputs": [
        {
          "output_type": "display_data",
          "data": {
            "image/png": "[encoded data removed]",
            "text/plain": [
              "<Figure size 432x288 with 1 Axes>"
            ]
          },
          "metadata": {
            "tags": []
          }
        }
      ]
    },
    {
      "cell_type": "markdown",
      "metadata": {
        "id": "MB6pTb2_dVJ8",
        "colab_type": "text"
      },
      "source": [
        "### Extending Stop Words\n"
      ]
    },
    {
      "cell_type": "code",
      "metadata": {
        "id": "kLfMbHQEdVJ9",
        "colab_type": "code",
        "colab": {
          "base_uri": "https://localhost:8080/",
          "height": 34
        },
        "outputId": "e40390f9-7fe4-44fc-bad9-9898bba7b78d"
      },
      "source": [
        "print(type(nlp.Defaults.stop_words))"
      ],
      "execution_count": 46,
      "outputs": [
        {
          "output_type": "stream",
          "text": [
            "<class 'set'>\n"
          ],
          "name": "stdout"
        }
      ]
    },
    {
      "cell_type": "code",
      "metadata": {
        "id": "-lDYGoQ0dVJ-",
        "colab_type": "code",
        "colab": {}
      },
      "source": [
        "# [this,] comma at the end represents the list as a set\n",
        "STOP_WORDS = nlp.Defaults.stop_words.union(['I', 'amazon', 'i', 'Amazon', 'it', \"it's\", 'it.', 'the', 'this',])"
      ],
      "execution_count": 0,
      "outputs": []
    },
    {
      "cell_type": "code",
      "metadata": {
        "id": "2PXPRjJtdVKA",
        "colab_type": "code",
        "colab": {}
      },
      "source": [
        "tokens = []\n",
        "\n",
        "for doc in tokenizer.pipe(df['reviews.text'], batch_size=500):\n",
        "    \n",
        "    doc_tokens = []\n",
        "    \n",
        "    for token in doc: \n",
        "        ## Add that new line\n",
        "        if token.text not in STOP_WORDS:\n",
        "          doc_tokens.append(token.text.lower())\n",
        "   \n",
        "    tokens.append(doc_tokens)\n",
        "    \n",
        "df['tokens'] = tokens"
      ],
      "execution_count": 0,
      "outputs": []
    },
    {
      "cell_type": "code",
      "metadata": {
        "id": "P7CVIYv-dVKC",
        "colab_type": "code",
        "colab": {
          "base_uri": "https://localhost:8080/",
          "height": 204
        },
        "outputId": "1c090d9d-4632-4d15-fdf0-d13fa278f3f9"
      },
      "source": [
        "wc = count(df['tokens'])\n",
        "wc.head()"
      ],
      "execution_count": 56,
      "outputs": [
        {
          "output_type": "execute_result",
          "data": {
            "text/html": [
              "<div>\n",
              "<style scoped>\n",
              "    .dataframe tbody tr th:only-of-type {\n",
              "        vertical-align: middle;\n",
              "    }\n",
              "\n",
              "    .dataframe tbody tr th {\n",
              "        vertical-align: top;\n",
              "    }\n",
              "\n",
              "    .dataframe thead th {\n",
              "        text-align: right;\n",
              "    }\n",
              "</style>\n",
              "<table border=\"1\" class=\"dataframe\">\n",
              "  <thead>\n",
              "    <tr style=\"text-align: right;\">\n",
              "      <th></th>\n",
              "      <th>word</th>\n",
              "      <th>appears_in</th>\n",
              "      <th>count</th>\n",
              "      <th>rank</th>\n",
              "      <th>pct_total</th>\n",
              "      <th>cul_pct_total</th>\n",
              "      <th>appears_in_pct</th>\n",
              "    </tr>\n",
              "  </thead>\n",
              "  <tbody>\n",
              "    <tr>\n",
              "      <th>80</th>\n",
              "      <td>great</td>\n",
              "      <td>7187</td>\n",
              "      <td>8183</td>\n",
              "      <td>1.0</td>\n",
              "      <td>0.021599</td>\n",
              "      <td>0.021599</td>\n",
              "      <td>0.253671</td>\n",
              "    </tr>\n",
              "    <tr>\n",
              "      <th>26</th>\n",
              "      <td>batteries</td>\n",
              "      <td>3964</td>\n",
              "      <td>5671</td>\n",
              "      <td>2.0</td>\n",
              "      <td>0.014969</td>\n",
              "      <td>0.036568</td>\n",
              "      <td>0.139912</td>\n",
              "    </tr>\n",
              "    <tr>\n",
              "      <th>72</th>\n",
              "      <td>good</td>\n",
              "      <td>4633</td>\n",
              "      <td>5148</td>\n",
              "      <td>3.0</td>\n",
              "      <td>0.013588</td>\n",
              "      <td>0.050156</td>\n",
              "      <td>0.163525</td>\n",
              "    </tr>\n",
              "    <tr>\n",
              "      <th>7995</th>\n",
              "      <td>tablet</td>\n",
              "      <td>3920</td>\n",
              "      <td>4714</td>\n",
              "      <td>4.0</td>\n",
              "      <td>0.012443</td>\n",
              "      <td>0.062598</td>\n",
              "      <td>0.138359</td>\n",
              "    </tr>\n",
              "    <tr>\n",
              "      <th>84</th>\n",
              "      <td>the</td>\n",
              "      <td>2970</td>\n",
              "      <td>3653</td>\n",
              "      <td>5.0</td>\n",
              "      <td>0.009642</td>\n",
              "      <td>0.072240</td>\n",
              "      <td>0.104828</td>\n",
              "    </tr>\n",
              "  </tbody>\n",
              "</table>\n",
              "</div>"
            ],
            "text/plain": [
              "           word  appears_in  count  ...  pct_total  cul_pct_total  appears_in_pct\n",
              "80        great        7187   8183  ...   0.021599       0.021599        0.253671\n",
              "26    batteries        3964   5671  ...   0.014969       0.036568        0.139912\n",
              "72         good        4633   5148  ...   0.013588       0.050156        0.163525\n",
              "7995     tablet        3920   4714  ...   0.012443       0.062598        0.138359\n",
              "84          the        2970   3653  ...   0.009642       0.072240        0.104828\n",
              "\n",
              "[5 rows x 7 columns]"
            ]
          },
          "metadata": {
            "tags": []
          },
          "execution_count": 56
        }
      ]
    },
    {
      "cell_type": "code",
      "metadata": {
        "id": "Rz3WrpfhdVKF",
        "colab_type": "code",
        "colab": {
          "base_uri": "https://localhost:8080/",
          "height": 269
        },
        "outputId": "22992249-3c03-47b4-8f2e-6375aa0ffccf"
      },
      "source": [
        "wc_top20 = wc[wc['rank'] <= 20]\n",
        "\n",
        "squarify.plot(sizes=wc_top20['pct_total'], label=wc_top20['word'], alpha=.8 )\n",
        "plt.axis('off')\n",
        "plt.show()"
      ],
      "execution_count": 57,
      "outputs": [
        {
          "output_type": "display_data",
          "data": {
            "image/png": "[encoded data removed]",
            "text/plain": [
              "<Figure size 432x288 with 1 Axes>"
            ]
          },
          "metadata": {
            "tags": []
          }
        }
      ]
    },
    {
      "cell_type": "markdown",
      "metadata": {
        "id": "GY8LoUKkdVKG",
        "colab_type": "text"
      },
      "source": [
        "### Statistical Trimming\n",
        "\n",
        "So far, we have talked about stop word in relation to either broad english words or domain specific stop words. Another common approach to stop word removal is via statistical trimming. The basic idea: preserve the words that give the most about of variation in your data. \n",
        "\n",
        "Do you remember this graph?"
      ]
    },
    {
      "cell_type": "code",
      "metadata": {
        "id": "3VD3u0TIdVKH",
        "colab_type": "code",
        "colab": {
          "base_uri": "https://localhost:8080/",
          "height": 283
        },
        "outputId": "6ceabd38-3212-4600-f066-5052da148c35"
      },
      "source": [
        "sns.lineplot(x='rank', y='cul_pct_total', data=wc);"
      ],
      "execution_count": 58,
      "outputs": [
        {
          "output_type": "display_data",
          "data": {
            "image/png": "[encoded data removed]",
            "text/plain": [
              "<Figure size 432x288 with 1 Axes>"
            ]
          },
          "metadata": {
            "tags": []
          }
        }
      ]
    },
    {
      "cell_type": "markdown",
      "metadata": {
        "id": "CsikM5d3dVKI",
        "colab_type": "text"
      },
      "source": [
        "This graph tells us that only a *handful* of words represented 80% of words in the overall corpus. We can interpret this in two ways: \n",
        "1. The words that appear most frequently may not provide any insight into the mean on the documens since they are so prevalent. \n",
        "2. Words that appear infrequeny (at the end of the graph) also probably do not add much value, because the are mentioned so rarely. \n",
        "\n",
        "Let's take a look at the words at the bottom and the top and make a decision for ourselves:"
      ]
    },
    {
      "cell_type": "code",
      "metadata": {
        "id": "seiLe7TLdVKJ",
        "colab_type": "code",
        "colab": {
          "base_uri": "https://localhost:8080/",
          "height": 1000
        },
        "outputId": "db1e0dfb-43c2-41fa-8800-d9a63174d55c"
      },
      "source": [
        "wc.head(50)"
      ],
      "execution_count": 59,
      "outputs": [
        {
          "output_type": "execute_result",
          "data": {
            "text/html": [
              "<div>\n",
              "<style scoped>\n",
              "    .dataframe tbody tr th:only-of-type {\n",
              "        vertical-align: middle;\n",
              "    }\n",
              "\n",
              "    .dataframe tbody tr th {\n",
              "        vertical-align: top;\n",
              "    }\n",
              "\n",
              "    .dataframe thead th {\n",
              "        text-align: right;\n",
              "    }\n",
              "</style>\n",
              "<table border=\"1\" class=\"dataframe\">\n",
              "  <thead>\n",
              "    <tr style=\"text-align: right;\">\n",
              "      <th></th>\n",
              "      <th>word</th>\n",
              "      <th>appears_in</th>\n",
              "      <th>count</th>\n",
              "      <th>rank</th>\n",
              "      <th>pct_total</th>\n",
              "      <th>cul_pct_total</th>\n",
              "      <th>appears_in_pct</th>\n",
              "    </tr>\n",
              "  </thead>\n",
              "  <tbody>\n",
              "    <tr>\n",
              "      <th>80</th>\n",
              "      <td>great</td>\n",
              "      <td>7187</td>\n",
              "      <td>8183</td>\n",
              "      <td>1.0</td>\n",
              "      <td>0.021599</td>\n",
              "      <td>0.021599</td>\n",
              "      <td>0.253671</td>\n",
              "    </tr>\n",
              "    <tr>\n",
              "      <th>26</th>\n",
              "      <td>batteries</td>\n",
              "      <td>3964</td>\n",
              "      <td>5671</td>\n",
              "      <td>2.0</td>\n",
              "      <td>0.014969</td>\n",
              "      <td>0.036568</td>\n",
              "      <td>0.139912</td>\n",
              "    </tr>\n",
              "    <tr>\n",
              "      <th>72</th>\n",
              "      <td>good</td>\n",
              "      <td>4633</td>\n",
              "      <td>5148</td>\n",
              "      <td>3.0</td>\n",
              "      <td>0.013588</td>\n",
              "      <td>0.050156</td>\n",
              "      <td>0.163525</td>\n",
              "    </tr>\n",
              "    <tr>\n",
              "      <th>7995</th>\n",
              "      <td>tablet</td>\n",
              "      <td>3920</td>\n",
              "      <td>4714</td>\n",
              "      <td>4.0</td>\n",
              "      <td>0.012443</td>\n",
              "      <td>0.062598</td>\n",
              "      <td>0.138359</td>\n",
              "    </tr>\n",
              "    <tr>\n",
              "      <th>84</th>\n",
              "      <td>the</td>\n",
              "      <td>2970</td>\n",
              "      <td>3653</td>\n",
              "      <td>5.0</td>\n",
              "      <td>0.009642</td>\n",
              "      <td>0.072240</td>\n",
              "      <td>0.104828</td>\n",
              "    </tr>\n",
              "    <tr>\n",
              "      <th>117</th>\n",
              "      <td>love</td>\n",
              "      <td>3154</td>\n",
              "      <td>3458</td>\n",
              "      <td>6.0</td>\n",
              "      <td>0.009127</td>\n",
              "      <td>0.081368</td>\n",
              "      <td>0.111323</td>\n",
              "    </tr>\n",
              "    <tr>\n",
              "      <th>122</th>\n",
              "      <td>use</td>\n",
              "      <td>2881</td>\n",
              "      <td>3233</td>\n",
              "      <td>7.0</td>\n",
              "      <td>0.008533</td>\n",
              "      <td>0.089901</td>\n",
              "      <td>0.101687</td>\n",
              "    </tr>\n",
              "    <tr>\n",
              "      <th>41</th>\n",
              "      <td>bought</td>\n",
              "      <td>2916</td>\n",
              "      <td>3111</td>\n",
              "      <td>8.0</td>\n",
              "      <td>0.008211</td>\n",
              "      <td>0.098113</td>\n",
              "      <td>0.102922</td>\n",
              "    </tr>\n",
              "    <tr>\n",
              "      <th>1416</th>\n",
              "      <td>easy</td>\n",
              "      <td>2598</td>\n",
              "      <td>2823</td>\n",
              "      <td>9.0</td>\n",
              "      <td>0.007451</td>\n",
              "      <td>0.105564</td>\n",
              "      <td>0.091698</td>\n",
              "    </tr>\n",
              "    <tr>\n",
              "      <th>193</th>\n",
              "      <td>this</td>\n",
              "      <td>2685</td>\n",
              "      <td>2819</td>\n",
              "      <td>10.0</td>\n",
              "      <td>0.007441</td>\n",
              "      <td>0.113005</td>\n",
              "      <td>0.094769</td>\n",
              "    </tr>\n",
              "    <tr>\n",
              "      <th>21</th>\n",
              "      <td>price</td>\n",
              "      <td>2672</td>\n",
              "      <td>2808</td>\n",
              "      <td>11.0</td>\n",
              "      <td>0.007412</td>\n",
              "      <td>0.120416</td>\n",
              "      <td>0.094310</td>\n",
              "    </tr>\n",
              "    <tr>\n",
              "      <th>14</th>\n",
              "      <td>like</td>\n",
              "      <td>2127</td>\n",
              "      <td>2403</td>\n",
              "      <td>12.0</td>\n",
              "      <td>0.006343</td>\n",
              "      <td>0.126759</td>\n",
              "      <td>0.075074</td>\n",
              "    </tr>\n",
              "    <tr>\n",
              "      <th>5756</th>\n",
              "      <td>kindle</td>\n",
              "      <td>1805</td>\n",
              "      <td>2315</td>\n",
              "      <td>13.0</td>\n",
              "      <td>0.006110</td>\n",
              "      <td>0.132869</td>\n",
              "      <td>0.063709</td>\n",
              "    </tr>\n",
              "    <tr>\n",
              "      <th>320</th>\n",
              "      <td>it</td>\n",
              "      <td>1977</td>\n",
              "      <td>2295</td>\n",
              "      <td>14.0</td>\n",
              "      <td>0.006058</td>\n",
              "      <td>0.138927</td>\n",
              "      <td>0.069780</td>\n",
              "    </tr>\n",
              "    <tr>\n",
              "      <th>4639</th>\n",
              "      <td>loves</td>\n",
              "      <td>2086</td>\n",
              "      <td>2198</td>\n",
              "      <td>15.0</td>\n",
              "      <td>0.005802</td>\n",
              "      <td>0.144729</td>\n",
              "      <td>0.073627</td>\n",
              "    </tr>\n",
              "    <tr>\n",
              "      <th>30</th>\n",
              "      <td>long</td>\n",
              "      <td>2085</td>\n",
              "      <td>2193</td>\n",
              "      <td>16.0</td>\n",
              "      <td>0.005788</td>\n",
              "      <td>0.150517</td>\n",
              "      <td>0.073592</td>\n",
              "    </tr>\n",
              "    <tr>\n",
              "      <th>380</th>\n",
              "      <td>my</td>\n",
              "      <td>1973</td>\n",
              "      <td>2033</td>\n",
              "      <td>17.0</td>\n",
              "      <td>0.005366</td>\n",
              "      <td>0.155883</td>\n",
              "      <td>0.069639</td>\n",
              "    </tr>\n",
              "    <tr>\n",
              "      <th>22</th>\n",
              "      <td>work</td>\n",
              "      <td>1914</td>\n",
              "      <td>1997</td>\n",
              "      <td>18.0</td>\n",
              "      <td>0.005271</td>\n",
              "      <td>0.161154</td>\n",
              "      <td>0.067556</td>\n",
              "    </tr>\n",
              "    <tr>\n",
              "      <th>271</th>\n",
              "      <td>kids</td>\n",
              "      <td>1657</td>\n",
              "      <td>1922</td>\n",
              "      <td>19.0</td>\n",
              "      <td>0.005073</td>\n",
              "      <td>0.166227</td>\n",
              "      <td>0.058485</td>\n",
              "    </tr>\n",
              "    <tr>\n",
              "      <th>44</th>\n",
              "      <td>buy</td>\n",
              "      <td>1783</td>\n",
              "      <td>1915</td>\n",
              "      <td>20.0</td>\n",
              "      <td>0.005055</td>\n",
              "      <td>0.171282</td>\n",
              "      <td>0.062932</td>\n",
              "    </tr>\n",
              "    <tr>\n",
              "      <th>1487</th>\n",
              "      <td>fire</td>\n",
              "      <td>1570</td>\n",
              "      <td>1836</td>\n",
              "      <td>21.0</td>\n",
              "      <td>0.004846</td>\n",
              "      <td>0.176128</td>\n",
              "      <td>0.055414</td>\n",
              "    </tr>\n",
              "    <tr>\n",
              "      <th>177</th>\n",
              "      <td>they</td>\n",
              "      <td>1621</td>\n",
              "      <td>1802</td>\n",
              "      <td>22.0</td>\n",
              "      <td>0.004756</td>\n",
              "      <td>0.180884</td>\n",
              "      <td>0.057214</td>\n",
              "    </tr>\n",
              "    <tr>\n",
              "      <th>10</th>\n",
              "      <td>battery</td>\n",
              "      <td>1578</td>\n",
              "      <td>1788</td>\n",
              "      <td>23.0</td>\n",
              "      <td>0.004719</td>\n",
              "      <td>0.185604</td>\n",
              "      <td>0.055697</td>\n",
              "    </tr>\n",
              "    <tr>\n",
              "      <th>1485</th>\n",
              "      <td>old</td>\n",
              "      <td>1643</td>\n",
              "      <td>1752</td>\n",
              "      <td>24.0</td>\n",
              "      <td>0.004624</td>\n",
              "      <td>0.190228</td>\n",
              "      <td>0.057991</td>\n",
              "    </tr>\n",
              "    <tr>\n",
              "      <th>134</th>\n",
              "      <td>year</td>\n",
              "      <td>1444</td>\n",
              "      <td>1614</td>\n",
              "      <td>25.0</td>\n",
              "      <td>0.004260</td>\n",
              "      <td>0.194488</td>\n",
              "      <td>0.050967</td>\n",
              "    </tr>\n",
              "    <tr>\n",
              "      <th>161</th>\n",
              "      <td>batteries.</td>\n",
              "      <td>1427</td>\n",
              "      <td>1548</td>\n",
              "      <td>26.0</td>\n",
              "      <td>0.004086</td>\n",
              "      <td>0.198574</td>\n",
              "      <td>0.050367</td>\n",
              "    </tr>\n",
              "    <tr>\n",
              "      <th>69</th>\n",
              "      <td>price.</td>\n",
              "      <td>1435</td>\n",
              "      <td>1465</td>\n",
              "      <td>27.0</td>\n",
              "      <td>0.003867</td>\n",
              "      <td>0.202441</td>\n",
              "      <td>0.050649</td>\n",
              "    </tr>\n",
              "    <tr>\n",
              "      <th>118</th>\n",
              "      <td>works</td>\n",
              "      <td>1427</td>\n",
              "      <td>1448</td>\n",
              "      <td>28.0</td>\n",
              "      <td>0.003822</td>\n",
              "      <td>0.206263</td>\n",
              "      <td>0.050367</td>\n",
              "    </tr>\n",
              "    <tr>\n",
              "      <th>228</th>\n",
              "      <td>time</td>\n",
              "      <td>1219</td>\n",
              "      <td>1366</td>\n",
              "      <td>29.0</td>\n",
              "      <td>0.003606</td>\n",
              "      <td>0.209869</td>\n",
              "      <td>0.043026</td>\n",
              "    </tr>\n",
              "    <tr>\n",
              "      <th>147</th>\n",
              "      <td>don't</td>\n",
              "      <td>1192</td>\n",
              "      <td>1350</td>\n",
              "      <td>30.0</td>\n",
              "      <td>0.003563</td>\n",
              "      <td>0.213432</td>\n",
              "      <td>0.042073</td>\n",
              "    </tr>\n",
              "    <tr>\n",
              "      <th>29</th>\n",
              "      <td>these</td>\n",
              "      <td>1293</td>\n",
              "      <td>1338</td>\n",
              "      <td>31.0</td>\n",
              "      <td>0.003532</td>\n",
              "      <td>0.216963</td>\n",
              "      <td>0.045637</td>\n",
              "    </tr>\n",
              "    <tr>\n",
              "      <th>11306</th>\n",
              "      <td>tablet.</td>\n",
              "      <td>1253</td>\n",
              "      <td>1327</td>\n",
              "      <td>32.0</td>\n",
              "      <td>0.003503</td>\n",
              "      <td>0.220466</td>\n",
              "      <td>0.044226</td>\n",
              "    </tr>\n",
              "    <tr>\n",
              "      <th>401</th>\n",
              "      <td>product</td>\n",
              "      <td>1232</td>\n",
              "      <td>1302</td>\n",
              "      <td>33.0</td>\n",
              "      <td>0.003437</td>\n",
              "      <td>0.223903</td>\n",
              "      <td>0.043484</td>\n",
              "    </tr>\n",
              "    <tr>\n",
              "      <th>480</th>\n",
              "      <td>best</td>\n",
              "      <td>1171</td>\n",
              "      <td>1273</td>\n",
              "      <td>34.0</td>\n",
              "      <td>0.003360</td>\n",
              "      <td>0.227263</td>\n",
              "      <td>0.041331</td>\n",
              "    </tr>\n",
              "    <tr>\n",
              "      <th>3460</th>\n",
              "      <td>apps</td>\n",
              "      <td>1106</td>\n",
              "      <td>1262</td>\n",
              "      <td>35.0</td>\n",
              "      <td>0.003331</td>\n",
              "      <td>0.230594</td>\n",
              "      <td>0.039037</td>\n",
              "    </tr>\n",
              "    <tr>\n",
              "      <th>153</th>\n",
              "      <td>purchased</td>\n",
              "      <td>1185</td>\n",
              "      <td>1256</td>\n",
              "      <td>36.0</td>\n",
              "      <td>0.003315</td>\n",
              "      <td>0.233909</td>\n",
              "      <td>0.041825</td>\n",
              "    </tr>\n",
              "    <tr>\n",
              "      <th>128</th>\n",
              "      <td>got</td>\n",
              "      <td>1182</td>\n",
              "      <td>1247</td>\n",
              "      <td>37.0</td>\n",
              "      <td>0.003291</td>\n",
              "      <td>0.237200</td>\n",
              "      <td>0.041720</td>\n",
              "    </tr>\n",
              "    <tr>\n",
              "      <th>24</th>\n",
              "      <td>better</td>\n",
              "      <td>1101</td>\n",
              "      <td>1200</td>\n",
              "      <td>38.0</td>\n",
              "      <td>0.003167</td>\n",
              "      <td>0.240368</td>\n",
              "      <td>0.038861</td>\n",
              "    </tr>\n",
              "    <tr>\n",
              "      <th>3838</th>\n",
              "      <td>screen</td>\n",
              "      <td>1043</td>\n",
              "      <td>1184</td>\n",
              "      <td>39.0</td>\n",
              "      <td>0.003125</td>\n",
              "      <td>0.243493</td>\n",
              "      <td>0.036813</td>\n",
              "    </tr>\n",
              "    <tr>\n",
              "      <th>1200</th>\n",
              "      <td>games</td>\n",
              "      <td>1061</td>\n",
              "      <td>1130</td>\n",
              "      <td>40.0</td>\n",
              "      <td>0.002983</td>\n",
              "      <td>0.246476</td>\n",
              "      <td>0.037449</td>\n",
              "    </tr>\n",
              "    <tr>\n",
              "      <th>704</th>\n",
              "      <td>play</td>\n",
              "      <td>965</td>\n",
              "      <td>1071</td>\n",
              "      <td>41.0</td>\n",
              "      <td>0.002827</td>\n",
              "      <td>0.249303</td>\n",
              "      <td>0.034060</td>\n",
              "    </tr>\n",
              "    <tr>\n",
              "      <th>251</th>\n",
              "      <td>nice</td>\n",
              "      <td>1008</td>\n",
              "      <td>1069</td>\n",
              "      <td>42.0</td>\n",
              "      <td>0.002822</td>\n",
              "      <td>0.252124</td>\n",
              "      <td>0.035578</td>\n",
              "    </tr>\n",
              "    <tr>\n",
              "      <th>23</th>\n",
              "      <td>brand</td>\n",
              "      <td>957</td>\n",
              "      <td>1045</td>\n",
              "      <td>43.0</td>\n",
              "      <td>0.002758</td>\n",
              "      <td>0.254882</td>\n",
              "      <td>0.033778</td>\n",
              "    </tr>\n",
              "    <tr>\n",
              "      <th>1091</th>\n",
              "      <td>quality</td>\n",
              "      <td>975</td>\n",
              "      <td>1008</td>\n",
              "      <td>44.0</td>\n",
              "      <td>0.002661</td>\n",
              "      <td>0.257543</td>\n",
              "      <td>0.034413</td>\n",
              "    </tr>\n",
              "    <tr>\n",
              "      <th>582</th>\n",
              "      <td>it's</td>\n",
              "      <td>920</td>\n",
              "      <td>1004</td>\n",
              "      <td>45.0</td>\n",
              "      <td>0.002650</td>\n",
              "      <td>0.260193</td>\n",
              "      <td>0.032472</td>\n",
              "    </tr>\n",
              "    <tr>\n",
              "      <th>159</th>\n",
              "      <td>we</td>\n",
              "      <td>852</td>\n",
              "      <td>995</td>\n",
              "      <td>46.0</td>\n",
              "      <td>0.002626</td>\n",
              "      <td>0.262819</td>\n",
              "      <td>0.030072</td>\n",
              "    </tr>\n",
              "    <tr>\n",
              "      <th>1469</th>\n",
              "      <td>read</td>\n",
              "      <td>880</td>\n",
              "      <td>985</td>\n",
              "      <td>47.0</td>\n",
              "      <td>0.002600</td>\n",
              "      <td>0.265419</td>\n",
              "      <td>0.031060</td>\n",
              "    </tr>\n",
              "    <tr>\n",
              "      <th>2879</th>\n",
              "      <td>she</td>\n",
              "      <td>819</td>\n",
              "      <td>973</td>\n",
              "      <td>48.0</td>\n",
              "      <td>0.002568</td>\n",
              "      <td>0.267987</td>\n",
              "      <td>0.028907</td>\n",
              "    </tr>\n",
              "    <tr>\n",
              "      <th>262</th>\n",
              "      <td>very</td>\n",
              "      <td>936</td>\n",
              "      <td>968</td>\n",
              "      <td>49.0</td>\n",
              "      <td>0.002555</td>\n",
              "      <td>0.270542</td>\n",
              "      <td>0.033037</td>\n",
              "    </tr>\n",
              "    <tr>\n",
              "      <th>827</th>\n",
              "      <td>little</td>\n",
              "      <td>899</td>\n",
              "      <td>968</td>\n",
              "      <td>50.0</td>\n",
              "      <td>0.002555</td>\n",
              "      <td>0.273098</td>\n",
              "      <td>0.031731</td>\n",
              "    </tr>\n",
              "  </tbody>\n",
              "</table>\n",
              "</div>"
            ],
            "text/plain": [
              "             word  appears_in  count  ...  pct_total  cul_pct_total  appears_in_pct\n",
              "80          great        7187   8183  ...   0.021599       0.021599        0.253671\n",
              "26      batteries        3964   5671  ...   0.014969       0.036568        0.139912\n",
              "72           good        4633   5148  ...   0.013588       0.050156        0.163525\n",
              "7995       tablet        3920   4714  ...   0.012443       0.062598        0.138359\n",
              "84            the        2970   3653  ...   0.009642       0.072240        0.104828\n",
              "117          love        3154   3458  ...   0.009127       0.081368        0.111323\n",
              "122           use        2881   3233  ...   0.008533       0.089901        0.101687\n",
              "41         bought        2916   3111  ...   0.008211       0.098113        0.102922\n",
              "1416         easy        2598   2823  ...   0.007451       0.105564        0.091698\n",
              "193          this        2685   2819  ...   0.007441       0.113005        0.094769\n",
              "21          price        2672   2808  ...   0.007412       0.120416        0.094310\n",
              "14           like        2127   2403  ...   0.006343       0.126759        0.075074\n",
              "5756       kindle        1805   2315  ...   0.006110       0.132869        0.063709\n",
              "320            it        1977   2295  ...   0.006058       0.138927        0.069780\n",
              "4639        loves        2086   2198  ...   0.005802       0.144729        0.073627\n",
              "30           long        2085   2193  ...   0.005788       0.150517        0.073592\n",
              "380            my        1973   2033  ...   0.005366       0.155883        0.069639\n",
              "22           work        1914   1997  ...   0.005271       0.161154        0.067556\n",
              "271          kids        1657   1922  ...   0.005073       0.166227        0.058485\n",
              "44            buy        1783   1915  ...   0.005055       0.171282        0.062932\n",
              "1487         fire        1570   1836  ...   0.004846       0.176128        0.055414\n",
              "177          they        1621   1802  ...   0.004756       0.180884        0.057214\n",
              "10        battery        1578   1788  ...   0.004719       0.185604        0.055697\n",
              "1485          old        1643   1752  ...   0.004624       0.190228        0.057991\n",
              "134          year        1444   1614  ...   0.004260       0.194488        0.050967\n",
              "161    batteries.        1427   1548  ...   0.004086       0.198574        0.050367\n",
              "69         price.        1435   1465  ...   0.003867       0.202441        0.050649\n",
              "118         works        1427   1448  ...   0.003822       0.206263        0.050367\n",
              "228          time        1219   1366  ...   0.003606       0.209869        0.043026\n",
              "147         don't        1192   1350  ...   0.003563       0.213432        0.042073\n",
              "29          these        1293   1338  ...   0.003532       0.216963        0.045637\n",
              "11306     tablet.        1253   1327  ...   0.003503       0.220466        0.044226\n",
              "401       product        1232   1302  ...   0.003437       0.223903        0.043484\n",
              "480          best        1171   1273  ...   0.003360       0.227263        0.041331\n",
              "3460         apps        1106   1262  ...   0.003331       0.230594        0.039037\n",
              "153     purchased        1185   1256  ...   0.003315       0.233909        0.041825\n",
              "128           got        1182   1247  ...   0.003291       0.237200        0.041720\n",
              "24         better        1101   1200  ...   0.003167       0.240368        0.038861\n",
              "3838       screen        1043   1184  ...   0.003125       0.243493        0.036813\n",
              "1200        games        1061   1130  ...   0.002983       0.246476        0.037449\n",
              "704          play         965   1071  ...   0.002827       0.249303        0.034060\n",
              "251          nice        1008   1069  ...   0.002822       0.252124        0.035578\n",
              "23          brand         957   1045  ...   0.002758       0.254882        0.033778\n",
              "1091      quality         975   1008  ...   0.002661       0.257543        0.034413\n",
              "582          it's         920   1004  ...   0.002650       0.260193        0.032472\n",
              "159            we         852    995  ...   0.002626       0.262819        0.030072\n",
              "1469         read         880    985  ...   0.002600       0.265419        0.031060\n",
              "2879          she         819    973  ...   0.002568       0.267987        0.028907\n",
              "262          very         936    968  ...   0.002555       0.270542        0.033037\n",
              "827        little         899    968  ...   0.002555       0.273098        0.031731\n",
              "\n",
              "[50 rows x 7 columns]"
            ]
          },
          "metadata": {
            "tags": []
          },
          "execution_count": 59
        }
      ]
    },
    {
      "cell_type": "code",
      "metadata": {
        "id": "Zif3ivdudVKL",
        "colab_type": "code",
        "colab": {
          "base_uri": "https://localhost:8080/",
          "height": 170
        },
        "outputId": "557d4921-8638-4cea-f97f-c4167d855957"
      },
      "source": [
        "wc['appears_in_pct'].describe()"
      ],
      "execution_count": 60,
      "outputs": [
        {
          "output_type": "execute_result",
          "data": {
            "text/plain": [
              "count    21442.000000\n",
              "mean         0.000587\n",
              "std          0.004057\n",
              "min          0.000035\n",
              "25%          0.000035\n",
              "50%          0.000071\n",
              "75%          0.000176\n",
              "max          0.253671\n",
              "Name: appears_in_pct, dtype: float64"
            ]
          },
          "metadata": {
            "tags": []
          },
          "execution_count": 60
        }
      ]
    },
    {
      "cell_type": "code",
      "metadata": {
        "id": "u1OPmzF8dVKN",
        "colab_type": "code",
        "colab": {
          "base_uri": "https://localhost:8080/",
          "height": 284
        },
        "outputId": "d988f1f6-9682-4383-f867-265913063c88"
      },
      "source": [
        "# Frequency of appears in documents\n",
        "sns.distplot(wc['appears_in_pct']);"
      ],
      "execution_count": 61,
      "outputs": [
        {
          "output_type": "display_data",
          "data": {
            "image/png": "[encoded data removed]",
            "text/plain": [
              "<Figure size 432x288 with 1 Axes>"
            ]
          },
          "metadata": {
            "tags": []
          }
        }
      ]
    },
    {
      "cell_type": "markdown",
      "metadata": {
        "id": "8PHSuL5JdVKO",
        "colab_type": "text"
      },
      "source": [
        "## Stemming & Lemmatization\n",
        "<a id=\"p3\"></a>\n",
        "\n",
        "You can see from our example above there is still some normalization to do to get a clean analysis. You notice that there many words (*i.e.* 'batteries', 'battery') which share the same root word. We can use either the process of stemming or lemmatization to trim our words down to the 'root' word. \n",
        "\n",
        "__Section Agenda__:\n",
        "\n",
        "- Which is which\n",
        "- why use one v. other\n",
        "- show side by side visualizations \n",
        "- how to do it in spacy & nltk\n",
        "- introduce PoS in here as well"
      ]
    },
    {
      "cell_type": "markdown",
      "metadata": {
        "id": "DksRXU9MdVKP",
        "colab_type": "text"
      },
      "source": [
        "### Stemming\n",
        "\n",
        "> *a process for removing the commoner morphological and inflexional endings from words in English. Its main use is as part of a term normalisation process that is usually done when setting up Information Retrieval systems.* - [Martin Porter](https://tartarus.org/martin/PorterStemmer/)\n",
        "\n",
        "Some examples include:\n",
        "- 'ing'\n",
        "- 'ed'\n",
        "- 's'\n",
        "\n",
        "These rules are by no means comprehensive, but they are somewhere to start. Most stemming is done by well documented algorithms such as Porter, Snowball, and Dawson. Porter and its newer version Snowball are the most popular stemming algorithms today. For more information on various stemming algorithms check out [*\"A Comparative Study of Stemming Algorithms\"*](https://pdfs.semanticscholar.org/1c0c/0fa35d4ff8a2f925eb955e48d655494bd167.pdf) \n",
        "\n",
        "\n",
        "Spacy does not do stemming out of the box, but instead uses a different technique called *lemmatization* which we will discuss in the next section. Let's turn to an antique python package `nltk` for stemming. \n"
      ]
    },
    {
      "cell_type": "code",
      "metadata": {
        "id": "u6HAzeasdVKP",
        "colab_type": "code",
        "colab": {
          "base_uri": "https://localhost:8080/",
          "height": 85
        },
        "outputId": "d74e7a9a-b36e-4fad-fa1e-3e18070526f7"
      },
      "source": [
        "from nltk.stem import PorterStemmer\n",
        "\n",
        "ps = PorterStemmer()\n",
        "\n",
        "words = [\"game\",\"gaming\",\"gamed\",\"games\"]\n",
        "\n",
        "for word in words:\n",
        "    print(ps.stem(word))"
      ],
      "execution_count": 62,
      "outputs": [
        {
          "output_type": "stream",
          "text": [
            "game\n",
            "game\n",
            "game\n",
            "game\n"
          ],
          "name": "stdout"
        }
      ]
    },
    {
      "cell_type": "markdown",
      "metadata": {
        "id": "ZJPptaE3dVKR",
        "colab_type": "text"
      },
      "source": [
        "#### Two Minute Challenge\n",
        "\n",
        "Apply the Porter stemming algorithm to the tokens in the `df` dataframe. Visualize the results in the tree graph we have been using for this session."
      ]
    },
    {
      "cell_type": "code",
      "metadata": {
        "id": "hObp4u6UdVKR",
        "colab_type": "code",
        "colab": {}
      },
      "source": [
        "# Put in a new column `stems`\n"
      ],
      "execution_count": 0,
      "outputs": []
    },
    {
      "cell_type": "code",
      "metadata": {
        "id": "p4FcbkGEdVKT",
        "colab_type": "code",
        "colab": {}
      },
      "source": [
        "wc = count(df['stems'])\n",
        "\n",
        "wc_top20 = wc[wc['rank'] <= 20]\n",
        "\n",
        "squarify.plot(sizes=wc_top20['pct_total'], label=wc_top20['word'], alpha=.8 )\n",
        "plt.axis('off')\n",
        "plt.show()"
      ],
      "execution_count": 0,
      "outputs": []
    },
    {
      "cell_type": "markdown",
      "metadata": {
        "toc-hr-collapsed": false,
        "id": "3yimIAI8dVKU",
        "colab_type": "text"
      },
      "source": [
        "### Lemmatization\n",
        "\n",
        "You notice immediately that results are kinda funky - words just oddly chopped off. The Porter algorithm did exactly what it knows to do: chop off endings. Stemming works well in applications where humans don't have to worry about reading the results. Search engines and more broadly information retrival algorithms use stemming. Why? Becuase it's fast. \n",
        "\n",
        "Lemmatization on the other hand is more methodical. The goal is to transform a word into's base form called a lemma. Plural nouns with funky spellings get transformed to singular tense. Verbs are all transformed to the transitive. Nice tidy data for a visualization. :) However, this tidy data can come at computational cost. Spacy does a pretty freaking good job of it though. Let's take a look:"
      ]
    },
    {
      "cell_type": "code",
      "metadata": {
        "id": "86hgiu_TdVKV",
        "colab_type": "code",
        "colab": {
          "base_uri": "https://localhost:8080/",
          "height": 272
        },
        "outputId": "c92212fd-dc25-4a98-a288-18305ade4f22"
      },
      "source": [
        "sent = \"This is the start of our NLP adventure. We started here with Spacy.\"\n",
        "\n",
        "doc = nlp(sent)\n",
        "\n",
        "# Lemma Attributes\n",
        "for token in doc:\n",
        "  print(token.lemma_)"
      ],
      "execution_count": 63,
      "outputs": [
        {
          "output_type": "stream",
          "text": [
            "this\n",
            "be\n",
            "the\n",
            "start\n",
            "of\n",
            "-PRON-\n",
            "NLP\n",
            "adventure\n",
            ".\n",
            "-PRON-\n",
            "start\n",
            "here\n",
            "with\n",
            "Spacy\n",
            ".\n"
          ],
          "name": "stdout"
        }
      ]
    },
    {
      "cell_type": "code",
      "metadata": {
        "id": "jCAKpRuZdVKZ",
        "colab_type": "code",
        "colab": {}
      },
      "source": [
        "# Wrap it all in a function\n",
        "def get_lemmas(text):\n",
        "    lemmas = []\n",
        "    doc = nlp(text)\n",
        "    for token in doc:\n",
        "      if ((token.is_stop == False) and (token.is_punct == False)) and (token.pos_ != 'PRON'):\n",
        "         lemmas.append(token.lemma_)\n",
        "    return lemmas"
      ],
      "execution_count": 0,
      "outputs": []
    },
    {
      "cell_type": "code",
      "metadata": {
        "id": "O5cV6GJYdVKb",
        "colab_type": "code",
        "colab": {}
      },
      "source": [
        "df['lemmas'] = df['reviews.text'].apply(get_lemmas)"
      ],
      "execution_count": 0,
      "outputs": []
    },
    {
      "cell_type": "code",
      "metadata": {
        "id": "p8l_ej7AdVKc",
        "colab_type": "code",
        "colab": {
          "base_uri": "https://localhost:8080/",
          "height": 119
        },
        "outputId": "e06ff479-b54b-4379-c94f-d76bf2748695"
      },
      "source": [
        "df['lemmas'].head()"
      ],
      "execution_count": 68,
      "outputs": [
        {
          "output_type": "execute_result",
          "data": {
            "text/plain": [
              "0    [order, 3, item, bad, quality, miss, backup, s...\n",
              "1                [Bulk, expensive, way, product, like]\n",
              "2                             [Duracell, price, happy]\n",
              "3                  [work, brand, battery, well, price]\n",
              "4                  [battery, long, last, price, great]\n",
              "Name: lemmas, dtype: object"
            ]
          },
          "metadata": {
            "tags": []
          },
          "execution_count": 68
        }
      ]
    },
    {
      "cell_type": "code",
      "metadata": {
        "id": "VmsqZYspdVKe",
        "colab_type": "code",
        "colab": {
          "base_uri": "https://localhost:8080/",
          "height": 269
        },
        "outputId": "3317cfec-26c0-4de7-a244-99d0da009449"
      },
      "source": [
        "wc = count(df['lemmas'])\n",
        "wc_top20 = wc[wc['rank'] <= 20]\n",
        "\n",
        "squarify.plot(sizes=wc_top20['pct_total'], label=wc_top20['word'], alpha=.8 )\n",
        "plt.axis('off')\n",
        "plt.show()"
      ],
      "execution_count": 69,
      "outputs": [
        {
          "output_type": "display_data",
          "data": {
            "image/png": "[encoded data removed]",
            "text/plain": [
              "<Figure size 432x288 with 1 Axes>"
            ]
          },
          "metadata": {
            "tags": []
          }
        }
      ]
    },
    {
      "cell_type": "markdown",
      "metadata": {
        "toc-hr-collapsed": true,
        "id": "qj7w6-npdVKh",
        "colab_type": "text"
      },
      "source": [
        "### What else should I know? \n",
        "- NER\n",
        "- Dependcy Trees \n",
        "- Generators\n",
        "- the major libraries (NLTK, Spacy, Gensim)"
      ]
    }
  ]
}